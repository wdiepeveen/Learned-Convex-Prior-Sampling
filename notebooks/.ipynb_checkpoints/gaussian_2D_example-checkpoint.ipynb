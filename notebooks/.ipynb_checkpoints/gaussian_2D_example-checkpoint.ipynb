{
 "cells": [
  {
   "cell_type": "code",
   "execution_count": 1,
   "metadata": {},
   "outputs": [],
   "source": [
    "import numpy as np\n",
    "\n",
    "from gradients.l2_data_fidelity import gradient_l2_data_fidelity\n",
    "from problems import Problem\n",
    "from proxes.l2_norm import prox_l2_norm\n",
    "from solvers.myula import MYULA\n"
   ]
  },
  {
   "cell_type": "code",
   "execution_count": 2,
   "metadata": {
    "pycharm": {
     "name": "#%%\n"
    }
   },
   "outputs": [
    {
     "name": "stdout",
     "output_type": "stream",
     "text": [
      "<bound method MYULA.compute_chain of <solvers.myula.MYULA object at 0x7fd3e5377c10>>\n"
     ]
    }
   ],
   "source": [
    "# Define problem\n",
    "data = np.ones(2)\n",
    "data_var = 0.5\n",
    "\n",
    "# Setup problem parameters\n",
    "delta = 0.1\n",
    "lambd = 0.2\n",
    "\n",
    "# Make sure gradient is in correct format\n",
    "def gradient(x):\n",
    "    return gradient_l2_data_fidelity(x,data,var=data_var)\n",
    "\n",
    "prob = Problem(shape=data.shape)\n",
    "\n",
    "myula_mc = MYULA(problem=prob,\n",
    "               num_its=100,\n",
    "               burn_in=0,\n",
    "               x_init=data,\n",
    "               gradient_f=gradient,\n",
    "               prox_g=prox_l2_norm,\n",
    "               delta=delta,\n",
    "               lambd=lambd\n",
    "               )\n",
    "\n",
    "print(myula_mc.compute_chain)"
   ]
  },
  {
   "cell_type": "code",
   "execution_count": 3,
   "metadata": {
    "pycharm": {
     "name": "#%%\n"
    }
   },
   "outputs": [
    {
     "name": "stdout",
     "output_type": "stream",
     "text": [
      "Start burn-in steps\n",
      "Start Markov chain steps\n",
      "Iteration 0/100\n",
      "Iteration 1/100\n",
      "Iteration 2/100\n",
      "Iteration 3/100\n",
      "Iteration 4/100\n",
      "Iteration 5/100\n",
      "Iteration 6/100\n",
      "Iteration 7/100\n",
      "Iteration 8/100\n",
      "Iteration 9/100\n",
      "Iteration 10/100\n",
      "Iteration 11/100\n",
      "Iteration 12/100\n",
      "Iteration 13/100\n",
      "Iteration 14/100\n",
      "Iteration 15/100\n",
      "Iteration 16/100\n",
      "Iteration 17/100\n",
      "Iteration 18/100\n",
      "Iteration 19/100\n",
      "Iteration 20/100\n",
      "Iteration 21/100\n",
      "Iteration 22/100\n",
      "Iteration 23/100\n",
      "Iteration 24/100\n",
      "Iteration 25/100\n",
      "Iteration 26/100\n",
      "Iteration 27/100\n",
      "Iteration 28/100\n",
      "Iteration 29/100\n",
      "Iteration 30/100\n",
      "Iteration 31/100\n",
      "Iteration 32/100\n",
      "Iteration 33/100\n",
      "Iteration 34/100\n",
      "Iteration 35/100\n",
      "Iteration 36/100\n",
      "Iteration 37/100\n",
      "Iteration 38/100\n",
      "Iteration 39/100\n",
      "Iteration 40/100\n",
      "Iteration 41/100\n",
      "Iteration 42/100\n",
      "Iteration 43/100\n",
      "Iteration 44/100\n",
      "Iteration 45/100\n",
      "Iteration 46/100\n",
      "Iteration 47/100\n",
      "Iteration 48/100\n",
      "Iteration 49/100\n",
      "Iteration 50/100\n",
      "Iteration 51/100\n",
      "Iteration 52/100\n",
      "Iteration 53/100\n",
      "Iteration 54/100\n",
      "Iteration 55/100\n",
      "Iteration 56/100\n",
      "Iteration 57/100\n",
      "Iteration 58/100\n",
      "Iteration 59/100\n",
      "Iteration 60/100\n",
      "Iteration 61/100\n",
      "Iteration 62/100\n",
      "Iteration 63/100\n",
      "Iteration 64/100\n",
      "Iteration 65/100\n",
      "Iteration 66/100\n",
      "Iteration 67/100\n",
      "Iteration 68/100\n",
      "Iteration 69/100\n",
      "Iteration 70/100\n",
      "Iteration 71/100\n",
      "Iteration 72/100\n",
      "Iteration 73/100\n",
      "Iteration 74/100\n",
      "Iteration 75/100\n",
      "Iteration 76/100\n",
      "Iteration 77/100\n",
      "Iteration 78/100\n",
      "Iteration 79/100\n",
      "Iteration 80/100\n",
      "Iteration 81/100\n",
      "Iteration 82/100\n",
      "Iteration 83/100\n",
      "Iteration 84/100\n",
      "Iteration 85/100\n",
      "Iteration 86/100\n",
      "Iteration 87/100\n",
      "Iteration 88/100\n",
      "Iteration 89/100\n",
      "Iteration 90/100\n",
      "Iteration 91/100\n",
      "Iteration 92/100\n",
      "Iteration 93/100\n",
      "Iteration 94/100\n",
      "Iteration 95/100\n",
      "Iteration 96/100\n",
      "Iteration 97/100\n",
      "Iteration 98/100\n",
      "Iteration 99/100\n"
     ]
    }
   ],
   "source": [
    "# Compute Markov Chain\n",
    "chain = myula_mc.compute_chain()\n"
   ]
  },
  {
   "cell_type": "code",
   "execution_count": 4,
   "metadata": {
    "pycharm": {
     "name": "#%%\n"
    }
   },
   "outputs": [
    {
     "name": "stdout",
     "output_type": "stream",
     "text": [
      "Mean = [0.68577244 0.92297557]\n",
      "Point-wise variance = [0.53269323 0.48185062]\n"
     ]
    }
   ],
   "source": [
    "# Evaluate result\n",
    "mean = np.mean(chain,axis=0)\n",
    "print(\"Mean = {}\".format(mean))\n",
    "var = np.var(chain,axis=0)\n",
    "print(\"Point-wise variance = {}\".format(var))"
   ]
  },
  {
   "cell_type": "code",
   "execution_count": null,
   "metadata": {},
   "outputs": [],
   "source": []
  }
 ],
 "metadata": {
  "kernelspec": {
   "display_name": "Python 3",
   "language": "python",
   "name": "python3"
  },
  "language_info": {
   "codemirror_mode": {
    "name": "ipython",
    "version": 3
   },
   "file_extension": ".py",
   "mimetype": "text/x-python",
   "name": "python",
   "nbconvert_exporter": "python",
   "pygments_lexer": "ipython3",
   "version": "3.8.7"
  }
 },
 "nbformat": 4,
 "nbformat_minor": 1
}
