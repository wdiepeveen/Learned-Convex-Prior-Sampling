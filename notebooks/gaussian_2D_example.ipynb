{
 "cells": [
  {
   "cell_type": "code",
   "execution_count": 1,
   "metadata": {
    "collapsed": true
   },
   "outputs": [],
   "source": [
    "import numpy as np\n",
    "\n",
    "from gradients.l2_data_fidelity import gradient_l2_data_fidelity\n",
    "from problems import Problem\n",
    "from proxes.l2_norm import prox_l2_norm\n",
    "from solvers.myula import MYULA\n"
   ]
  },
  {
   "cell_type": "code",
   "execution_count": 2,
   "outputs": [
    {
     "name": "stdout",
     "output_type": "stream",
     "text": [
      "<bound method MYULA.compute_chain of <solvers.myula.MYULA object at 0x7ffc5834fa00>>\n"
     ]
    }
   ],
   "source": [
    "# Define problem\n",
    "data = np.ones(2)\n",
    "data_var = 0.5\n",
    "\n",
    "# Setup problem parameters\n",
    "delta = 0.1\n",
    "lambd = 0.2\n",
    "\n",
    "# Make sure gradient is in correct format\n",
    "def gradient(x):\n",
    "    return gradient_l2_data_fidelity(x,data,var=data_var)\n",
    "\n",
    "prob = Problem(shape=data.shape)\n",
    "\n",
    "myula_mc = MYULA(problem=prob,\n",
    "               num_its=100,\n",
    "               burn_in=0,\n",
    "               x_init=data,\n",
    "               gradient_f=gradient,\n",
    "               prox_g=prox_l2_norm,\n",
    "               delta=delta,\n",
    "               lambd=lambd\n",
    "               )\n",
    "\n",
    "print(myula_mc.compute_chain)"
   ],
   "metadata": {
    "collapsed": false,
    "pycharm": {
     "name": "#%%\n"
    }
   }
  },
  {
   "cell_type": "code",
   "execution_count": 3,
   "outputs": [],
   "source": [
    "# Compute Markov Chain\n",
    "chain = myula_mc.compute_chain()\n"
   ],
   "metadata": {
    "collapsed": false,
    "pycharm": {
     "name": "#%%\n"
    }
   }
  },
  {
   "cell_type": "code",
   "execution_count": 4,
   "outputs": [
    {
     "name": "stdout",
     "output_type": "stream",
     "text": [
      "Mean = [0.68577244 0.92297557]\n",
      "Point-wise variance = [0.53269323 0.48185062]\n"
     ]
    }
   ],
   "source": [
    "# Evaluate result\n",
    "mean = np.mean(chain,axis=0)\n",
    "print(\"Mean = {}\".format(mean))\n",
    "var = np.var(chain,axis=0)\n",
    "print(\"Point-wise variance = {}\".format(var))"
   ],
   "metadata": {
    "collapsed": false,
    "pycharm": {
     "name": "#%%\n"
    }
   }
  }
 ],
 "metadata": {
  "kernelspec": {
   "display_name": "Python 3",
   "language": "python",
   "name": "python3"
  },
  "language_info": {
   "codemirror_mode": {
    "name": "ipython",
    "version": 2
   },
   "file_extension": ".py",
   "mimetype": "text/x-python",
   "name": "python",
   "nbconvert_exporter": "python",
   "pygments_lexer": "ipython2",
   "version": "2.7.6"
  }
 },
 "nbformat": 4,
 "nbformat_minor": 0
}